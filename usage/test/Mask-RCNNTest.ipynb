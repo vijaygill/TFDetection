{
 "cells": [
  {
   "cell_type": "code",
   "execution_count": 1,
   "id": "e30ade3c",
   "metadata": {},
   "outputs": [],
   "source": [
    "#ignore warning\n",
    "import warnings, os\n",
    "warnings.filterwarnings(action = \"ignore\")\n",
    "os.environ[\"TF_CPP_MIN_LOG_LEVEL\"] = \"3\"\n",
    "import tensorflow as tf\n",
    "tf.compat.v1.logging.set_verbosity(tf.compat.v1.logging.ERROR)\n",
    "\n",
    "import functools\n",
    "import tfdet\n",
    "import tfdet.dataset.transform as T\n",
    "import albumentations as A\n",
    "\n",
    "import matplotlib.pyplot as plt\n",
    "import cv2\n",
    "import numpy as np\n",
    "import glob"
   ]
  },
  {
   "cell_type": "code",
   "execution_count": 2,
   "id": "01723baf",
   "metadata": {},
   "outputs": [],
   "source": [
    "import os\n",
    "if not os.path.exists(\"./tfdet\"):\n",
    "    !ln -sf ../../tfdet tfdet"
   ]
  },
  {
   "cell_type": "code",
   "execution_count": 3,
   "id": "18652278",
   "metadata": {},
   "outputs": [
    {
     "name": "stdout",
     "output_type": "stream",
     "text": [
      "balloon/\n",
      "    balloon_dataset.zip\n",
      "    __MACOSX/\n",
      "        balloon/\n",
      "            train/\n",
      "                ._3927754171_9011487133_b.jpg\n",
      "                ._53500107_d24b11b3c2_b.jpg\n",
      "                ._7308740338_591f27b631_k.jpg\n",
      "                ...\n",
      "            val/\n",
      "                ._3800636873_ace2c2795f_b.jpg\n",
      "                ._5555705118_3390d70abe_b.jpg\n",
      "                ._4838031651_3e7b5ea5c7_b.jpg\n",
      "                ...\n",
      "    balloon/\n",
      "        train/\n",
      "            2385899600_94b68350af_b.jpg\n",
      "            34020010494_e5cb88e1c4_k.jpg\n",
      "            8436015314_3a678c1005_k.jpg\n",
      "            ...\n",
      "        val/\n",
      "            5603212091_2dfe16ea72_b.jpg\n",
      "            24631331976_defa3bb61f_k.jpg\n",
      "            8053085540_a72bd21a64_k.jpg\n",
      "            ...\n"
     ]
    }
   ],
   "source": [
    "import os\n",
    "path = \"./learn/balloon\"\n",
    "if not os.path.exists(path):\n",
    "    !mkdir ./learn/balloon\n",
    "    !cd ./learn/balloon && wget -qq --no-check-certificate http://github.com/matterport/Mask_RCNN/releases/download/v2.1/balloon_dataset.zip\n",
    "    !cd ./learn/balloon && unzip -qq balloon_dataset.zip\n",
    "print(tfdet.dataset.util.tree_dir(path))"
   ]
  },
  {
   "cell_type": "code",
   "execution_count": 4,
   "id": "83b2bd9a",
   "metadata": {},
   "outputs": [
    {
     "name": "stdout",
     "output_type": "stream",
     "text": [
      "Loading dataset from: ./learn/balloon/balloon/train/via_region_data.json\n",
      "DEBUG 001: (800, 800, 3) (1, 1) [[0.485   0.4275  0.705   0.69375]] (1, 800, 800, 1)\n"
     ]
    }
   ],
   "source": [
    "image_edge_size = 800\n",
    "image_shape = [image_edge_size, image_edge_size]\n",
    "tr_batch_size = 1\n",
    "te_batch_size = 1\n",
    "\n",
    "tr_path = \"./learn/balloon/balloon/train/via_region_data.json\"\n",
    "te_path = \"./learn/balloon/balloon/val/via_region_data.json\"\n",
    "\n",
    "label = tfdet.dataset.balloon.LABEL\n",
    "n_class = len(label)\n",
    "\n",
    "def get_dataset(path, shuffle, cache):\n",
    "    print(\"Loading dataset from: {0}\".format(path))\n",
    "    dataset = tfdet.dataset.balloon.load_dataset(path,\n",
    "                                                    transform = [T.load, \n",
    "                                                                 functools.partial(T.resize, image_shape = image_shape), \n",
    "                                                                 functools.partial(T.pad, image_shape = image_shape),\n",
    "                                                                 functools.partial(T.filter_annotation, label = label),\n",
    "                                                                 functools.partial(T.label_encode, label = label),\n",
    "                                                                 T.normalize],\n",
    "                                                    mask = True,\n",
    "                                                    cache = cache\n",
    "                                                )\n",
    "    return dataset\n",
    "\n",
    "tr_ds = get_dataset(tr_path, True, './learn/balloon_train.cache')\n",
    "a, b, c , d = tr_ds[0]\n",
    "print(\"DEBUG 001: {0} {1} {2} {3}\".format(a.shape, b.shape, c, d.shape))\n",
    "\n",
    "\n",
    "def get_dataset_as_pipeline(path, shuffle, cache, is_training = False):\n",
    "    dataset = get_dataset(path, shuffle, cache)\n",
    "    pipe = dataset\n",
    "    batch_size = tr_batch_size if is_training else te_batch_size\n",
    "    pipe = tfdet.dataset.PipeLoader(dataset, batch_size = batch_size, shuffle = shuffle, prefetch = True, num_parallel_calls = 1)\n",
    "\n",
    "    pipe = tfdet.dataset.pipeline.args2dict(pipe)\n",
    "    pipe = tfdet.dataset.pipeline.collect(pipe)\n",
    "    pipe = tfdet.dataset.pipeline.cast(pipe)\n",
    "    #pipe = tfdet.dataset.pipeline.key_map(pipe, batch_size = 1, shuffle = shuffle, prefetch = True)\n",
    "    #pipe = pipe.batch(tr_batch_size)\n",
    "    #pipe = pipe.prefetch(8)\n",
    "    return pipe\n",
    "\n"
   ]
  },
  {
   "cell_type": "code",
   "execution_count": 5,
   "id": "c06473a3",
   "metadata": {},
   "outputs": [
    {
     "name": "stdout",
     "output_type": "stream",
     "text": [
      "Loading dataset from: ./learn/balloon/balloon/train/via_region_data.json\n",
      "Loading dataset from: ./learn/balloon/balloon/val/via_region_data.json\n",
      "DEBUG 002: x_true y_true bbox_true mask_true\n",
      "DEBUG 002: x_true: y_true bbox_true: mask_true (1, 800, 800, 3): (1, 3, 1) (1, 3, 4): (1, 3, 800, 800, 1)\n"
     ]
    }
   ],
   "source": [
    "tr_pipe = get_dataset_as_pipeline(tr_path, True, './learn/balloon_train.cache', True)\n",
    "te_pipe = get_dataset_as_pipeline(te_path, True, './learn/balloon_eval.cache')\n",
    "\n",
    "item = next(iter(tr_pipe))\n",
    "a, b, c, d = item\n",
    "print(\"DEBUG 002: {0} {1} {2} {3}\".format(a, b, c, d))\n",
    "print(\"DEBUG 002: {0}: {1} {2}: {3} {4}: {5} {6}: {7}\".format(a, b, c, d, item[a].shape, item[b].shape, item[c].shape, item[d].shape))\n",
    "#print(\"DEBUG 002: {0}: {1}\".format(c, item[b]))\n"
   ]
  },
  {
   "cell_type": "code",
   "execution_count": 6,
   "id": "91bfdbcc",
   "metadata": {},
   "outputs": [
    {
     "name": "stdout",
     "output_type": "stream",
     "text": [
      "Epoch 1/20\n",
      "61/61 - 94s - loss: 39.5479 - rpn_score_accuracy: 0.7586 - cls_logits_accuracy: 0.1004 - rpn_score_loss: 2.7134 - rpn_regress_loss: 28.6120 - cls_logits_loss: 2.2294 - cls_regress_loss: 5.6688 - cls_mask_loss: 0.3243 - val_loss: 153772.6719 - val_rpn_score_accuracy: 0.1936 - val_cls_logits_accuracy: 0.0000e+00 - val_rpn_score_loss: 17.0702 - val_rpn_regress_loss: 153755.5938 - val_cls_logits_loss: 0.0000e+00 - val_cls_regress_loss: 0.0000e+00 - val_cls_mask_loss: 0.0000e+00 - mean_average_precision: 0.0000e+00 - mean_average_precision@.5: 0.0000e+00 - mean_average_precision@.75: 0.0000e+00 - learning_rate: 0.0025 - 94s/epoch - 2s/step\n",
      "Epoch 2/20\n",
      "61/61 - 29s - loss: 511.9171 - rpn_score_accuracy: 0.7920 - cls_logits_accuracy: 0.0000e+00 - rpn_score_loss: 5.3113 - rpn_regress_loss: 506.6057 - cls_logits_loss: 0.0000e+00 - cls_regress_loss: 0.0000e+00 - cls_mask_loss: 0.0000e+00 - val_loss: 223209003696521216.0000 - val_rpn_score_accuracy: 0.4139 - val_cls_logits_accuracy: 0.0000e+00 - val_rpn_score_loss: 13.2101 - val_rpn_regress_loss: 223209003696521216.0000 - val_cls_logits_loss: 0.0000e+00 - val_cls_regress_loss: 0.0000e+00 - val_cls_mask_loss: 0.0000e+00 - mean_average_precision: 0.0000e+00 - mean_average_precision@.5: 0.0000e+00 - mean_average_precision@.75: 0.0000e+00 - learning_rate: 0.0050 - 29s/epoch - 482ms/step\n",
      "Epoch 3/20\n",
      "61/61 - 29s - loss: 69296.4609 - rpn_score_accuracy: 0.8158 - cls_logits_accuracy: 0.0000e+00 - rpn_score_loss: 9.3027 - rpn_regress_loss: 69287.1562 - cls_logits_loss: 0.0000e+00 - cls_regress_loss: 0.0000e+00 - cls_mask_loss: 0.0000e+00 - val_loss: 630668805856559104.0000 - val_rpn_score_accuracy: 0.7769 - val_cls_logits_accuracy: 0.0000e+00 - val_rpn_score_loss: 8.4470 - val_rpn_regress_loss: 630668805856559104.0000 - val_cls_logits_loss: 0.0000e+00 - val_cls_regress_loss: 0.0000e+00 - val_cls_mask_loss: 0.0000e+00 - mean_average_precision: 0.0000e+00 - mean_average_precision@.5: 0.0000e+00 - mean_average_precision@.75: 0.0000e+00 - learning_rate: 0.0075 - 29s/epoch - 482ms/step\n",
      "Epoch 4/20\n",
      "61/61 - 29s - loss: 386900.5625 - rpn_score_accuracy: 0.8701 - cls_logits_accuracy: 0.0000e+00 - rpn_score_loss: 9.4366 - rpn_regress_loss: 386891.1250 - cls_logits_loss: 0.0000e+00 - cls_regress_loss: 0.0000e+00 - cls_mask_loss: 0.0000e+00 - val_loss: 48659228000256.0000 - val_rpn_score_accuracy: 0.8770 - val_cls_logits_accuracy: 0.0000e+00 - val_rpn_score_loss: 12.5785 - val_rpn_regress_loss: 48659228000256.0000 - val_cls_logits_loss: 0.0000e+00 - val_cls_regress_loss: 0.0000e+00 - val_cls_mask_loss: 0.0000e+00 - mean_average_precision: 0.0000e+00 - mean_average_precision@.5: 0.0000e+00 - mean_average_precision@.75: 0.0000e+00 - learning_rate: 0.0100 - 29s/epoch - 474ms/step\n",
      "Epoch 5/20\n",
      "61/61 - 29s - loss: 162947.6875 - rpn_score_accuracy: 0.8577 - cls_logits_accuracy: 0.0000e+00 - rpn_score_loss: 11.5784 - rpn_regress_loss: 162936.1094 - cls_logits_loss: 0.0000e+00 - cls_regress_loss: 0.0000e+00 - cls_mask_loss: 0.0000e+00 - val_loss: 30678382592.0000 - val_rpn_score_accuracy: 0.8577 - val_cls_logits_accuracy: 0.0000e+00 - val_rpn_score_loss: 11.8785 - val_rpn_regress_loss: 30678382592.0000 - val_cls_logits_loss: 0.0000e+00 - val_cls_regress_loss: 0.0000e+00 - val_cls_mask_loss: 0.0000e+00 - mean_average_precision: 0.0000e+00 - mean_average_precision@.5: 0.0000e+00 - mean_average_precision@.75: 0.0000e+00 - learning_rate: 0.0099 - 29s/epoch - 472ms/step\n",
      "Epoch 6/20\n",
      "61/61 - 29s - loss: 193380.8594 - rpn_score_accuracy: 0.9202 - cls_logits_accuracy: 0.0000e+00 - rpn_score_loss: 12.7140 - rpn_regress_loss: 193368.1406 - cls_logits_loss: 0.0000e+00 - cls_regress_loss: 0.0000e+00 - cls_mask_loss: 0.0000e+00 - val_loss: 590834688.0000 - val_rpn_score_accuracy: 0.8919 - val_cls_logits_accuracy: 0.0000e+00 - val_rpn_score_loss: 13.7344 - val_rpn_regress_loss: 590834688.0000 - val_cls_logits_loss: 0.0000e+00 - val_cls_regress_loss: 0.0000e+00 - val_cls_mask_loss: 0.0000e+00 - mean_average_precision: 0.0000e+00 - mean_average_precision@.5: 0.0000e+00 - mean_average_precision@.75: 0.0000e+00 - learning_rate: 0.0098 - 29s/epoch - 473ms/step\n",
      "Epoch 7/20\n",
      "61/61 - 29s - loss: 6220.7603 - rpn_score_accuracy: 0.8953 - cls_logits_accuracy: 0.0000e+00 - rpn_score_loss: 11.6559 - rpn_regress_loss: 6209.1045 - cls_logits_loss: 0.0000e+00 - cls_regress_loss: 0.0000e+00 - cls_mask_loss: 0.0000e+00 - val_loss: 3040174.5000 - val_rpn_score_accuracy: 0.8972 - val_cls_logits_accuracy: 0.0000e+00 - val_rpn_score_loss: 8.3590 - val_rpn_regress_loss: 3040166.5000 - val_cls_logits_loss: 0.0000e+00 - val_cls_regress_loss: 0.0000e+00 - val_cls_mask_loss: 0.0000e+00 - mean_average_precision: 0.0000e+00 - mean_average_precision@.5: 0.0000e+00 - mean_average_precision@.75: 0.0000e+00 - learning_rate: 0.0095 - 29s/epoch - 479ms/step\n",
      "Epoch 8/20\n",
      "61/61 - 29s - loss: 2426.6880 - rpn_score_accuracy: 0.8953 - cls_logits_accuracy: 0.0000e+00 - rpn_score_loss: 4.2601 - rpn_regress_loss: 2422.4268 - cls_logits_loss: 0.0000e+00 - cls_regress_loss: 0.0000e+00 - cls_mask_loss: 0.0000e+00 - val_loss: 1068.3534 - val_rpn_score_accuracy: 0.7769 - val_cls_logits_accuracy: 0.0000e+00 - val_rpn_score_loss: 4.3675 - val_rpn_regress_loss: 1063.9858 - val_cls_logits_loss: 0.0000e+00 - val_cls_regress_loss: 0.0000e+00 - val_cls_mask_loss: 0.0000e+00 - mean_average_precision: 0.0000e+00 - mean_average_precision@.5: 0.0000e+00 - mean_average_precision@.75: 0.0000e+00 - learning_rate: 0.0091 - 29s/epoch - 478ms/step\n",
      "Epoch 9/20\n",
      "61/61 - 29s - loss: 8.8617 - rpn_score_accuracy: 0.8132 - cls_logits_accuracy: 0.0000e+00 - rpn_score_loss: 2.2218 - rpn_regress_loss: 6.6396 - cls_logits_loss: 0.0000e+00 - cls_regress_loss: 0.0000e+00 - cls_mask_loss: 0.0000e+00 - val_loss: 2.4894 - val_rpn_score_accuracy: 0.7769 - val_cls_logits_accuracy: 0.0000e+00 - val_rpn_score_loss: 2.0725 - val_rpn_regress_loss: 0.4166 - val_cls_logits_loss: 0.0000e+00 - val_cls_regress_loss: 0.0000e+00 - val_cls_mask_loss: 0.0000e+00 - mean_average_precision: 0.0000e+00 - mean_average_precision@.5: 0.0000e+00 - mean_average_precision@.75: 0.0000e+00 - learning_rate: 0.0085 - 29s/epoch - 475ms/step\n",
      "Epoch 10/20\n",
      "61/61 - 29s - loss: 3.2175 - rpn_score_accuracy: 0.8141 - cls_logits_accuracy: 0.0000e+00 - rpn_score_loss: 1.9232 - rpn_regress_loss: 1.2940 - cls_logits_loss: 0.0000e+00 - cls_regress_loss: 0.0000e+00 - cls_mask_loss: 0.0000e+00 - val_loss: 1.9928 - val_rpn_score_accuracy: 0.7769 - val_cls_logits_accuracy: 0.0000e+00 - val_rpn_score_loss: 1.5731 - val_rpn_regress_loss: 0.4194 - val_cls_logits_loss: 0.0000e+00 - val_cls_regress_loss: 0.0000e+00 - val_cls_mask_loss: 0.0000e+00 - mean_average_precision: 0.0000e+00 - mean_average_precision@.5: 0.0000e+00 - mean_average_precision@.75: 0.0000e+00 - learning_rate: 0.0080 - 29s/epoch - 476ms/step\n",
      "Epoch 11/20\n",
      "61/61 - 30s - loss: 3.3961 - rpn_score_accuracy: 0.8141 - cls_logits_accuracy: 0.0000e+00 - rpn_score_loss: 2.2754 - rpn_regress_loss: 1.1204 - cls_logits_loss: 0.0000e+00 - cls_regress_loss: 0.0000e+00 - cls_mask_loss: 0.0000e+00 - val_loss: 1.6889 - val_rpn_score_accuracy: 0.7769 - val_cls_logits_accuracy: 0.0000e+00 - val_rpn_score_loss: 1.2731 - val_rpn_regress_loss: 0.4155 - val_cls_logits_loss: 0.0000e+00 - val_cls_regress_loss: 0.0000e+00 - val_cls_mask_loss: 0.0000e+00 - mean_average_precision: 0.0000e+00 - mean_average_precision@.5: 0.0000e+00 - mean_average_precision@.75: 0.0000e+00 - learning_rate: 0.0073 - 30s/epoch - 485ms/step\n",
      "Epoch 12/20\n",
      "61/61 - 30s - loss: 3.0125 - rpn_score_accuracy: 0.8109 - cls_logits_accuracy: 0.0000e+00 - rpn_score_loss: 2.0432 - rpn_regress_loss: 0.9690 - cls_logits_loss: 0.0000e+00 - cls_regress_loss: 0.0000e+00 - cls_mask_loss: 0.0000e+00 - val_loss: 2.7491 - val_rpn_score_accuracy: 0.7769 - val_cls_logits_accuracy: 0.0000e+00 - val_rpn_score_loss: 2.3326 - val_rpn_regress_loss: 0.4161 - val_cls_logits_loss: 0.0000e+00 - val_cls_regress_loss: 0.0000e+00 - val_cls_mask_loss: 0.0000e+00 - mean_average_precision: 0.0000e+00 - mean_average_precision@.5: 0.0000e+00 - mean_average_precision@.75: 0.0000e+00 - learning_rate: 0.0066 - 30s/epoch - 484ms/step\n",
      "Epoch 13/20\n",
      "61/61 - 29s - loss: 2.7473 - rpn_score_accuracy: 0.8109 - cls_logits_accuracy: 0.0000e+00 - rpn_score_loss: 1.9200 - rpn_regress_loss: 0.8270 - cls_logits_loss: 0.0000e+00 - cls_regress_loss: 0.0000e+00 - cls_mask_loss: 0.0000e+00 - val_loss: 2.8911 - val_rpn_score_accuracy: 0.7769 - val_cls_logits_accuracy: 0.0000e+00 - val_rpn_score_loss: 2.4905 - val_rpn_regress_loss: 0.4002 - val_cls_logits_loss: 0.0000e+00 - val_cls_regress_loss: 0.0000e+00 - val_cls_mask_loss: 0.0000e+00 - mean_average_precision: 0.0000e+00 - mean_average_precision@.5: 0.0000e+00 - mean_average_precision@.75: 0.0000e+00 - learning_rate: 0.0058 - 29s/epoch - 478ms/step\n"
     ]
    },
    {
     "name": "stdout",
     "output_type": "stream",
     "text": [
      "Epoch 14/20\n",
      "61/61 - 29s - loss: 2.9380 - rpn_score_accuracy: 0.8109 - cls_logits_accuracy: 0.0000e+00 - rpn_score_loss: 2.2294 - rpn_regress_loss: 0.7083 - cls_logits_loss: 0.0000e+00 - cls_regress_loss: 0.0000e+00 - cls_mask_loss: 0.0000e+00 - val_loss: 2.4404 - val_rpn_score_accuracy: 0.7769 - val_cls_logits_accuracy: 0.0000e+00 - val_rpn_score_loss: 2.0252 - val_rpn_regress_loss: 0.4148 - val_cls_logits_loss: 0.0000e+00 - val_cls_regress_loss: 0.0000e+00 - val_cls_mask_loss: 0.0000e+00 - mean_average_precision: 0.0000e+00 - mean_average_precision@.5: 0.0000e+00 - mean_average_precision@.75: 0.0000e+00 - learning_rate: 0.0050 - 29s/epoch - 472ms/step\n",
      "Epoch 15/20\n",
      "61/61 - 29s - loss: 2.7714 - rpn_score_accuracy: 0.8109 - cls_logits_accuracy: 0.0000e+00 - rpn_score_loss: 2.1695 - rpn_regress_loss: 0.6016 - cls_logits_loss: 0.0000e+00 - cls_regress_loss: 0.0000e+00 - cls_mask_loss: 0.0000e+00 - val_loss: 2.6175 - val_rpn_score_accuracy: 0.7769 - val_cls_logits_accuracy: 0.0000e+00 - val_rpn_score_loss: 2.2053 - val_rpn_regress_loss: 0.4118 - val_cls_logits_loss: 0.0000e+00 - val_cls_regress_loss: 0.0000e+00 - val_cls_mask_loss: 0.0000e+00 - mean_average_precision: 0.0000e+00 - mean_average_precision@.5: 0.0000e+00 - mean_average_precision@.75: 0.0000e+00 - learning_rate: 0.0042 - 29s/epoch - 475ms/step\n",
      "Epoch 16/20\n",
      "61/61 - 29s - loss: 2.5951 - rpn_score_accuracy: 0.8109 - cls_logits_accuracy: 0.0000e+00 - rpn_score_loss: 2.0860 - rpn_regress_loss: 0.5087 - cls_logits_loss: 0.0000e+00 - cls_regress_loss: 0.0000e+00 - cls_mask_loss: 0.0000e+00 - val_loss: 2.1873 - val_rpn_score_accuracy: 0.7769 - val_cls_logits_accuracy: 0.0000e+00 - val_rpn_score_loss: 1.7782 - val_rpn_regress_loss: 0.4087 - val_cls_logits_loss: 0.0000e+00 - val_cls_regress_loss: 0.0000e+00 - val_cls_mask_loss: 0.0000e+00 - mean_average_precision: 0.0000e+00 - mean_average_precision@.5: 0.0000e+00 - mean_average_precision@.75: 0.0000e+00 - learning_rate: 0.0035 - 29s/epoch - 477ms/step\n",
      "Epoch 17/20\n",
      "61/61 - 29s - loss: 2.0939 - rpn_score_accuracy: 0.8109 - cls_logits_accuracy: 0.0000e+00 - rpn_score_loss: 1.6634 - rpn_regress_loss: 0.4302 - cls_logits_loss: 0.0000e+00 - cls_regress_loss: 0.0000e+00 - cls_mask_loss: 0.0000e+00 - val_loss: 2.2215 - val_rpn_score_accuracy: 0.7769 - val_cls_logits_accuracy: 0.0000e+00 - val_rpn_score_loss: 1.8047 - val_rpn_regress_loss: 0.4164 - val_cls_logits_loss: 0.0000e+00 - val_cls_regress_loss: 0.0000e+00 - val_cls_mask_loss: 0.0000e+00 - mean_average_precision: 0.0000e+00 - mean_average_precision@.5: 0.0000e+00 - mean_average_precision@.75: 0.0000e+00 - learning_rate: 0.0027 - 29s/epoch - 477ms/step\n",
      "Epoch 18/20\n",
      "61/61 - 29s - loss: 1.9467 - rpn_score_accuracy: 0.8109 - cls_logits_accuracy: 0.0000e+00 - rpn_score_loss: 1.5868 - rpn_regress_loss: 0.3595 - cls_logits_loss: 0.0000e+00 - cls_regress_loss: 0.0000e+00 - cls_mask_loss: 0.0000e+00 - val_loss: 2.4942 - val_rpn_score_accuracy: 0.7769 - val_cls_logits_accuracy: 0.0000e+00 - val_rpn_score_loss: 2.0792 - val_rpn_regress_loss: 0.4147 - val_cls_logits_loss: 0.0000e+00 - val_cls_regress_loss: 0.0000e+00 - val_cls_mask_loss: 0.0000e+00 - mean_average_precision: 0.0000e+00 - mean_average_precision@.5: 0.0000e+00 - mean_average_precision@.75: 0.0000e+00 - learning_rate: 0.0021 - 29s/epoch - 475ms/step\n",
      "Epoch 19/20\n",
      "61/61 - 29s - loss: 2.2133 - rpn_score_accuracy: 0.8109 - cls_logits_accuracy: 0.0000e+00 - rpn_score_loss: 1.8772 - rpn_regress_loss: 0.3357 - cls_logits_loss: 0.0000e+00 - cls_regress_loss: 0.0000e+00 - cls_mask_loss: 0.0000e+00 - val_loss: 3.5163 - val_rpn_score_accuracy: 0.7769 - val_cls_logits_accuracy: 0.0000e+00 - val_rpn_score_loss: 3.0993 - val_rpn_regress_loss: 0.4166 - val_cls_logits_loss: 0.0000e+00 - val_cls_regress_loss: 0.0000e+00 - val_cls_mask_loss: 0.0000e+00 - mean_average_precision: 0.0000e+00 - mean_average_precision@.5: 0.0000e+00 - mean_average_precision@.75: 0.0000e+00 - learning_rate: 0.0015 - 29s/epoch - 469ms/step\n",
      "Epoch 20/20\n",
      "61/61 - 29s - loss: 2.5286 - rpn_score_accuracy: 0.8109 - cls_logits_accuracy: 0.0000e+00 - rpn_score_loss: 2.1937 - rpn_regress_loss: 0.3345 - cls_logits_loss: 0.0000e+00 - cls_regress_loss: 0.0000e+00 - cls_mask_loss: 0.0000e+00 - val_loss: 1.8822 - val_rpn_score_accuracy: 0.7769 - val_cls_logits_accuracy: 0.0000e+00 - val_rpn_score_loss: 1.4656 - val_rpn_regress_loss: 0.4162 - val_cls_logits_loss: 0.0000e+00 - val_cls_regress_loss: 0.0000e+00 - val_cls_mask_loss: 0.0000e+00 - mean_average_precision: 0.0000e+00 - mean_average_precision@.5: 0.0000e+00 - mean_average_precision@.75: 0.0000e+00 - learning_rate: 9.7231e-04 - 29s/epoch - 474ms/step\n"
     ]
    }
   ],
   "source": [
    "if not os.path.exists('./learn/weights'):\n",
    "    !mkdir ./learn/weights\n",
    "epoch = 20\n",
    "warm_up_epoch = max(1, min(5, int(epoch / 5)))\n",
    "save_path = \"./learn/weights/epoch@{epoch:03d}-metric@{mean_average_precision:.4f}-loss@{loss:.4f}-val_loss@{val_loss:.4f}.h5\"\n",
    "learning_rate = 1e-2\n",
    "dst_learning_rate = 1e-5\n",
    "\n",
    "x = tf.keras.layers.Input(shape = [*image_shape, 3], name = \"x_true\")\n",
    "feature = tfdet.model.backbone.resnet50(x, weights = \"imagenet\")\n",
    "out = tfdet.model.detector.mask_rcnn(feature, image_shape = tf.shape(x)[1:3],\n",
    "                                     n_class = n_class,\n",
    "                                     scale = [32, 64, 128, 256, 512], ratio = [0.5, 1, 2],\n",
    "                                     proposal_count = 2000,\n",
    "                                     sampling_count = 256, \n",
    "                                     sampling_positive_ratio = 0.25)\n",
    "\n",
    "model = tfdet.model.train.rcnn.train_model(x, *out, rpn_positive_ratio = 0.5,\n",
    "                                           proposal_count = 100, iou_threshold = 0.5, score_threshold = 0.05)\n",
    "\n",
    "model.compile(optimizer=tf.keras.optimizers.Adam(learning_rate=learning_rate))\n",
    "\n",
    "metric = tfdet.callback.CoCoMeanAveragePrecision(te_pipe, label = label, name = \"mean_average_precision\")\n",
    "save = tf.keras.callbacks.ModelCheckpoint(save_path, monitor = \"mean_average_precision\", mode = \"max\", save_best_only = True, save_weights_only = True, save_freq = \"epoch\", verbose = 0)\n",
    "scheduler = tfdet.callback.WarmUpCosineLearningRateSchedulerStep(cycle = epoch, decay_rate = dst_learning_rate / learning_rate, total_step = (tr_pipe.cardinality() if 0 < tr_pipe.cardinality() else None), warm_up_epoch = warm_up_epoch) #total step None > dynamic total step\n",
    "logger = tf.keras.callbacks.CSVLogger(os.path.join(os.path.dirname(save_path), \"logger.csv\"), separator = \",\")\n",
    "history = model.fit(tr_pipe, validation_data = te_pipe, epochs = epoch, callbacks = [metric, save, scheduler, logger], verbose = 2)\n"
   ]
  },
  {
   "cell_type": "code",
   "execution_count": 7,
   "id": "5db2a3b9",
   "metadata": {},
   "outputs": [
    {
     "name": "stderr",
     "output_type": "stream",
     "text": [
      "WARNING:absl:Found untraced functions such as _jit_compiled_convolution_op, _jit_compiled_convolution_op, _jit_compiled_convolution_op, _jit_compiled_convolution_op, _jit_compiled_convolution_op while saving (showing 5 of 136). These functions will not be directly callable after loading.\n"
     ]
    }
   ],
   "source": [
    "model.save('./learn/model/maskrcnn.tf')"
   ]
  },
  {
   "cell_type": "code",
   "execution_count": 10,
   "id": "2a33e247",
   "metadata": {},
   "outputs": [
    {
     "name": "stdout",
     "output_type": "stream",
     "text": [
      "model_path: ./learn/weights/epoch@022-metric@0.1172-loss@3.6590-val_loss@4.6288.h5\n",
      "+----------+--------+--------+------+-----------------+--------------------+---------------------+\n",
      "|label     |num_true|num_pred|recall|average_precision|average_precision@.5|average_precision@.75|\n",
      "+----------+--------+--------+------+-----------------+--------------------+---------------------+\n",
      "|background|0       |0       |0.0   |0.0              |0.0                 |0.0                  |\n",
      "|balloon   |50      |427     |0.034 |0.0062           |0.031               |0.0                  |\n",
      "+----------+--------+--------+------+-----------------+--------------------+---------------------+\n",
      "|summary   |50      |427     |0.034 |0.0062           |0.031               |0.0                  |\n",
      "+----------+--------+--------+------+-----------------+--------------------+---------------------+\n"
     ]
    }
   ],
   "source": [
    "model_path = tfdet.dataset.util.list_dir(os.path.dirname(save_path), \"h5\")\n",
    "model_path = sorted(model_path, key = lambda x: x.split(\"metric@\")[1].split(\"-\")[0], reverse = True)[0]\n",
    "print(\"model_path: {0}\".format(model_path))\n",
    "\n",
    "x = tf.keras.layers.Input(shape = [*image_shape, 3], name = \"x_true\")\n",
    "feature = tfdet.model.backbone.resnet50(x, weights = \"imagenet\")\n",
    "out = tfdet.model.detector.mask_rcnn(feature, image_shape = tf.shape(x)[1:3],\n",
    "                                     n_class = n_class,\n",
    "                                     scale = [32, 64, 128, 256, 512],\n",
    "                                     ratio = [0.5, 1, 2],\n",
    "                                     proposal_count = 1000)\n",
    "nms_out = tfdet.model.postprocess.rcnn.FilterDetection(proposal_count = 50,\n",
    "                                                       iou_threshold = 0.5,\n",
    "                                                       score_threshold = 0.25)(out)\n",
    "model = tf.keras.Model(x, nms_out)\n",
    "model.load_weights(model_path)\n",
    "\n",
    "metric = tfdet.core.metric.CoCoMeanAveragePrecision(label = label)\n",
    "for pipe_item in te_pipe:\n",
    "    x_true, y_true, bbox_true, mask_true = pipe_item[\"x_true\"], pipe_item[\"y_true\"], pipe_item[\"bbox_true\"], pipe_item[\"mask_true\"]\n",
    "    y_pred, bbox_pred, mask_pred = model.predict(x_true, verbose = 0)\n",
    "    metric.add(y_true, bbox_true, y_pred, bbox_pred)\n",
    "print(metric.summary_text)"
   ]
  },
  {
   "cell_type": "code",
   "execution_count": null,
   "id": "29d1099b",
   "metadata": {},
   "outputs": [],
   "source": [
    "box_thickness = 2\n",
    "box_color = (255, 0, 0)\n",
    "ds = tr_pipe\n",
    "\n",
    "count = 0\n",
    "for pipe_item in te_pipe:\n",
    "    x_true, y_true, bbox_true, mask_true = pipe_item[\"x_true\"], pipe_item[\"y_true\"], pipe_item[\"bbox_true\"], pipe_item[\"mask_true\"]\n",
    "    y_pred, bbox_pred, mask_pred = model.predict(x_true, verbose = 0)\n",
    "    metric.add(y_true, bbox_true, y_pred, bbox_pred)\n",
    "    print(\"x_true   : {0}\".format(x_true.shape))\n",
    "    print(\"y_pred   : {0}\".format(y_pred.shape))\n",
    "    print(\"bbox_pred: {0}\".format(bbox_pred.shape))\n",
    "    print(\"mask_pred: {0}\".format(mask_pred.shape))\n",
    "    \n",
    "    items_all = zip(x_true, y_pred, bbox_pred, mask_pred)\n",
    "    \n",
    "    for item in items_all:\n",
    "        x_true, bbox_true, y_true, mask_true = item\n",
    "        x_true = tfdet.dataset.transform.common.unnormalize(x_true)\n",
    "        bbox_true = bbox_true * image_edge_size\n",
    "        #print(\"x_true   : {0}\".format(x_true.shape))\n",
    "        #print(\"y_pred   : {0}\".format(y_pred.shape))\n",
    "        #print(\"bbox_pred: {0}\".format(bbox_pred.shape))\n",
    "        #print(\"mask_pred: {0}\".format(mask_pred.shape))\n",
    "        #img2 = tfdet.util.draw_bbox(x_true, bbox_true, y_true = y_true, mask_true = mask_true, label = tfdet.dataset.balloon.LABEL)\n",
    "        img2 = tfdet.util.draw_bbox(x_true, bbox_true, y_true = y_true, label = ['a', 'b', 'c', 'a', 'b', 'c'])\n",
    "        #cv2.imwrite('./test-{0}.png'.format(count), img2)\n",
    "        count = count + 1\n",
    "        plt.figure()\n",
    "        plt.imshow(img2)\n",
    "        plt.show()\n"
   ]
  }
 ],
 "metadata": {
  "kernelspec": {
   "display_name": "Python 3",
   "language": "python",
   "name": "python3"
  },
  "language_info": {
   "codemirror_mode": {
    "name": "ipython",
    "version": 3
   },
   "file_extension": ".py",
   "mimetype": "text/x-python",
   "name": "python",
   "nbconvert_exporter": "python",
   "pygments_lexer": "ipython3",
   "version": "3.8.10"
  }
 },
 "nbformat": 4,
 "nbformat_minor": 5
}
